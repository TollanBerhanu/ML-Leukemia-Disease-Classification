{
  "nbformat": 4,
  "nbformat_minor": 0,
  "metadata": {
    "colab": {
      "provenance": [],
      "authorship_tag": "ABX9TyNqUTvHs/zSrCxkoP0QDGsI",
      "include_colab_link": true
    },
    "kernelspec": {
      "name": "python3",
      "display_name": "Python 3"
    },
    "language_info": {
      "name": "python"
    }
  },
  "cells": [
    {
      "cell_type": "markdown",
      "metadata": {
        "id": "view-in-github",
        "colab_type": "text"
      },
      "source": [
        "<a href=\"https://colab.research.google.com/github/TollanBerhanu/ML-Leukemia-Disease-Classification/blob/main/Leukemia_Disease_Classification.ipynb\" target=\"_parent\"><img src=\"https://colab.research.google.com/assets/colab-badge.svg\" alt=\"Open In Colab\"/></a>"
      ]
    },
    {
      "cell_type": "markdown",
      "source": [
        "# Leukemia Disease Classification Model"
      ],
      "metadata": {
        "id": "syXC2L0PUfG1"
      }
    },
    {
      "cell_type": "markdown",
      "source": [
        "In this notebook we shall examine a small gene expression dataset, attempting to classify leukemia patients into one of two classes. This dataset comes from a proof-of-concept study published in 1999 by Golub et al. These data were used to classify patients with acute myeloid leukemia (AML) and acute lymphoblastic leukemia (ALL)."
      ],
      "metadata": {
        "id": "TJsb6Uy7UfO1"
      }
    },
    {
      "cell_type": "code",
      "execution_count": 27,
      "metadata": {
        "id": "HGgbH_7aUT6p"
      },
      "outputs": [],
      "source": [
        "# Import all the libraries that are used in this notebook\n",
        "import numpy as np\n",
        "import pandas as pd\n",
        "\n",
        "import matplotlib.pyplot as plt\n",
        "import seaborn as sns\n",
        "from mpl_toolkits.mplot3d import Axes3D\n",
        "%matplotlib inline\n",
        "\n",
        "from sklearn.preprocessing import StandardScaler\n",
        "from sklearn.decomposition import PCA\n",
        "from sklearn.model_selection import GridSearchCV, cross_val_score\n",
        "from sklearn.metrics import accuracy_score, confusion_matrix\n",
        "from sklearn.cluster import KMeans\n",
        "from sklearn.linear_model import LogisticRegression\n",
        "from sklearn.ensemble import RandomForestClassifier\n",
        "from sklearn.tree import DecisionTreeClassifier\n",
        "from sklearn.metrics import classification_report\n",
        "# from sklearn.svm import SVC\n",
        "# from sklearn.naive_bayes import GaussianNB\n",
        "\n",
        "from keras.models import Sequential\n",
        "from keras.layers import Dense\n",
        "from keras.callbacks import EarlyStopping"
      ]
    },
    {
      "cell_type": "markdown",
      "source": [
        "Let's start by taking a look at our target, the ALL/AML label."
      ],
      "metadata": {
        "id": "zekRIgHRWX9b"
      }
    },
    {
      "cell_type": "code",
      "source": [
        "# Import labels (for the whole dataset, both training and testing)\n",
        "y = pd.read_csv('./kaggle_dataset/actual.csv')\n",
        "print(y.shape)\n",
        "y.head()"
      ],
      "metadata": {
        "colab": {
          "base_uri": "https://localhost:8080/",
          "height": 224
        },
        "id": "uDeEn2v9UeSX",
        "outputId": "473c665d-6221-40a5-f990-5e22b5532e9c"
      },
      "execution_count": 6,
      "outputs": [
        {
          "output_type": "stream",
          "name": "stdout",
          "text": [
            "(72, 2)\n"
          ]
        },
        {
          "output_type": "execute_result",
          "data": {
            "text/plain": [
              "   patient cancer\n",
              "0        1    ALL\n",
              "1        2    ALL\n",
              "2        3    ALL\n",
              "3        4    ALL\n",
              "4        5    ALL"
            ],
            "text/html": [
              "\n",
              "  <div id=\"df-daf2fdc4-5195-4fb0-a10a-a7c3d84f5d26\">\n",
              "    <div class=\"colab-df-container\">\n",
              "      <div>\n",
              "<style scoped>\n",
              "    .dataframe tbody tr th:only-of-type {\n",
              "        vertical-align: middle;\n",
              "    }\n",
              "\n",
              "    .dataframe tbody tr th {\n",
              "        vertical-align: top;\n",
              "    }\n",
              "\n",
              "    .dataframe thead th {\n",
              "        text-align: right;\n",
              "    }\n",
              "</style>\n",
              "<table border=\"1\" class=\"dataframe\">\n",
              "  <thead>\n",
              "    <tr style=\"text-align: right;\">\n",
              "      <th></th>\n",
              "      <th>patient</th>\n",
              "      <th>cancer</th>\n",
              "    </tr>\n",
              "  </thead>\n",
              "  <tbody>\n",
              "    <tr>\n",
              "      <th>0</th>\n",
              "      <td>1</td>\n",
              "      <td>ALL</td>\n",
              "    </tr>\n",
              "    <tr>\n",
              "      <th>1</th>\n",
              "      <td>2</td>\n",
              "      <td>ALL</td>\n",
              "    </tr>\n",
              "    <tr>\n",
              "      <th>2</th>\n",
              "      <td>3</td>\n",
              "      <td>ALL</td>\n",
              "    </tr>\n",
              "    <tr>\n",
              "      <th>3</th>\n",
              "      <td>4</td>\n",
              "      <td>ALL</td>\n",
              "    </tr>\n",
              "    <tr>\n",
              "      <th>4</th>\n",
              "      <td>5</td>\n",
              "      <td>ALL</td>\n",
              "    </tr>\n",
              "  </tbody>\n",
              "</table>\n",
              "</div>\n",
              "      <button class=\"colab-df-convert\" onclick=\"convertToInteractive('df-daf2fdc4-5195-4fb0-a10a-a7c3d84f5d26')\"\n",
              "              title=\"Convert this dataframe to an interactive table.\"\n",
              "              style=\"display:none;\">\n",
              "        \n",
              "  <svg xmlns=\"http://www.w3.org/2000/svg\" height=\"24px\"viewBox=\"0 0 24 24\"\n",
              "       width=\"24px\">\n",
              "    <path d=\"M0 0h24v24H0V0z\" fill=\"none\"/>\n",
              "    <path d=\"M18.56 5.44l.94 2.06.94-2.06 2.06-.94-2.06-.94-.94-2.06-.94 2.06-2.06.94zm-11 1L8.5 8.5l.94-2.06 2.06-.94-2.06-.94L8.5 2.5l-.94 2.06-2.06.94zm10 10l.94 2.06.94-2.06 2.06-.94-2.06-.94-.94-2.06-.94 2.06-2.06.94z\"/><path d=\"M17.41 7.96l-1.37-1.37c-.4-.4-.92-.59-1.43-.59-.52 0-1.04.2-1.43.59L10.3 9.45l-7.72 7.72c-.78.78-.78 2.05 0 2.83L4 21.41c.39.39.9.59 1.41.59.51 0 1.02-.2 1.41-.59l7.78-7.78 2.81-2.81c.8-.78.8-2.07 0-2.86zM5.41 20L4 18.59l7.72-7.72 1.47 1.35L5.41 20z\"/>\n",
              "  </svg>\n",
              "      </button>\n",
              "      \n",
              "  <style>\n",
              "    .colab-df-container {\n",
              "      display:flex;\n",
              "      flex-wrap:wrap;\n",
              "      gap: 12px;\n",
              "    }\n",
              "\n",
              "    .colab-df-convert {\n",
              "      background-color: #E8F0FE;\n",
              "      border: none;\n",
              "      border-radius: 50%;\n",
              "      cursor: pointer;\n",
              "      display: none;\n",
              "      fill: #1967D2;\n",
              "      height: 32px;\n",
              "      padding: 0 0 0 0;\n",
              "      width: 32px;\n",
              "    }\n",
              "\n",
              "    .colab-df-convert:hover {\n",
              "      background-color: #E2EBFA;\n",
              "      box-shadow: 0px 1px 2px rgba(60, 64, 67, 0.3), 0px 1px 3px 1px rgba(60, 64, 67, 0.15);\n",
              "      fill: #174EA6;\n",
              "    }\n",
              "\n",
              "    [theme=dark] .colab-df-convert {\n",
              "      background-color: #3B4455;\n",
              "      fill: #D2E3FC;\n",
              "    }\n",
              "\n",
              "    [theme=dark] .colab-df-convert:hover {\n",
              "      background-color: #434B5C;\n",
              "      box-shadow: 0px 1px 3px 1px rgba(0, 0, 0, 0.15);\n",
              "      filter: drop-shadow(0px 1px 2px rgba(0, 0, 0, 0.3));\n",
              "      fill: #FFFFFF;\n",
              "    }\n",
              "  </style>\n",
              "\n",
              "      <script>\n",
              "        const buttonEl =\n",
              "          document.querySelector('#df-daf2fdc4-5195-4fb0-a10a-a7c3d84f5d26 button.colab-df-convert');\n",
              "        buttonEl.style.display =\n",
              "          google.colab.kernel.accessAllowed ? 'block' : 'none';\n",
              "\n",
              "        async function convertToInteractive(key) {\n",
              "          const element = document.querySelector('#df-daf2fdc4-5195-4fb0-a10a-a7c3d84f5d26');\n",
              "          const dataTable =\n",
              "            await google.colab.kernel.invokeFunction('convertToInteractive',\n",
              "                                                     [key], {});\n",
              "          if (!dataTable) return;\n",
              "\n",
              "          const docLinkHtml = 'Like what you see? Visit the ' +\n",
              "            '<a target=\"_blank\" href=https://colab.research.google.com/notebooks/data_table.ipynb>data table notebook</a>'\n",
              "            + ' to learn more about interactive tables.';\n",
              "          element.innerHTML = '';\n",
              "          dataTable['output_type'] = 'display_data';\n",
              "          await google.colab.output.renderOutput(dataTable, element);\n",
              "          const docLink = document.createElement('div');\n",
              "          docLink.innerHTML = docLinkHtml;\n",
              "          element.appendChild(docLink);\n",
              "        }\n",
              "      </script>\n",
              "    </div>\n",
              "  </div>\n",
              "  "
            ]
          },
          "metadata": {},
          "execution_count": 6
        }
      ]
    },
    {
      "cell_type": "markdown",
      "source": [
        "We actually need our labels to be numeric, so let's just do that now."
      ],
      "metadata": {
        "id": "LDxNi8R1WWKp"
      }
    },
    {
      "cell_type": "code",
      "source": [
        "# Recode label to numeric\n",
        "y = y.replace({'ALL':0,'AML':1})\n",
        "labels = ['ALL', 'AML'] # for plotting convenience later on"
      ],
      "metadata": {
        "id": "4liRM5lcV-WO"
      },
      "execution_count": 3,
      "outputs": []
    },
    {
      "cell_type": "markdown",
      "source": [
        "Now we move on to the features, which are provided for the training and testing datasets separately."
      ],
      "metadata": {
        "id": "A5lGvbhXWyxM"
      }
    },
    {
      "cell_type": "code",
      "source": [
        "# Import training data\n",
        "df_train = pd.read_csv('./kaggle_dataset/data_set_ALL_AML_train.csv')\n",
        "print(df_train.shape)\n",
        "\n",
        "# Import testing data\n",
        "df_test = pd.read_csv('./kaggle_dataset/data_set_ALL_AML_independent.csv')\n",
        "print(df_test.shape)"
      ],
      "metadata": {
        "colab": {
          "base_uri": "https://localhost:8080/"
        },
        "id": "PFWCVXqMWzac",
        "outputId": "2ac343c4-e132-446e-f46c-f2ac9baab46f"
      },
      "execution_count": 5,
      "outputs": [
        {
          "output_type": "stream",
          "name": "stdout",
          "text": [
            "(7129, 78)\n",
            "(7129, 70)\n"
          ]
        }
      ]
    },
    {
      "cell_type": "markdown",
      "source": [
        "The 7129 gene descriptions are provided as the rows and the values for each patient as the columns. This will clearly require some tidying up.\n",
        "\n",
        "Our first decision is: What should we do about all the \"call\" columns, one for each patient. No explanation for these is provided, so it's difficult to know whether they might be useful or not. We have taken the decision to simply remove them, but this may possibly not be the best approach."
      ],
      "metadata": {
        "id": "N0baeawfXn_h"
      }
    },
    {
      "cell_type": "code",
      "source": [
        "# Transform all the call values to numbers (not used in this version)\n",
        "# df_train.replace(['A','P','M'],['1','2','3'], inplace=True)\n",
        "# df_test.replace(['A','P','M'],['1','2','3'], inplace=True)\n",
        "\n",
        "# Remove \"call\" columns from training and testing data\n",
        "train_to_keep = [col for col in df_train.columns if \"call\" not in col]\n",
        "test_to_keep = [col for col in df_test.columns if \"call\" not in col]\n",
        "\n",
        "X_train_tr = df_train[train_to_keep]\n",
        "X_test_tr = df_test[test_to_keep]"
      ],
      "metadata": {
        "id": "3bIR2xHjYE3D"
      },
      "execution_count": 7,
      "outputs": []
    },
    {
      "cell_type": "markdown",
      "source": [
        "Neither the training and testing column names are not in numeric order, so it's important that we reorder these at some point, so that the labels will line up with the corresponding data."
      ],
      "metadata": {
        "id": "jVZxYMPsa_zR"
      }
    },
    {
      "cell_type": "code",
      "source": [
        "train_columns_titles = ['Gene Description', 'Gene Accession Number', '1', '2', '3', '4', '5', '6', '7', '8', '9', '10',\n",
        "       '11', '12', '13', '14', '15', '16', '17', '18', '19', '20', '21', '22', '23', '24', '25', \n",
        "       '26', '27', '28', '29', '30', '31', '32', '33', '34', '35', '36', '37', '38']\n",
        "\n",
        "X_train_tr = X_train_tr.reindex(columns=train_columns_titles)\n",
        "\n",
        "test_columns_titles = ['Gene Description', 'Gene Accession Number','39', '40', '41', '42', '43', '44', '45', '46',\n",
        "       '47', '48', '49', '50', '51', '52', '53',  '54', '55', '56', '57', '58', '59',\n",
        "       '60', '61', '62', '63', '64', '65', '66', '67', '68', '69', '70', '71', '72']\n",
        "\n",
        "X_test_tr = X_test_tr.reindex(columns=test_columns_titles)"
      ],
      "metadata": {
        "id": "V8wsjLkfbi5h"
      },
      "execution_count": 8,
      "outputs": []
    },
    {
      "cell_type": "markdown",
      "source": [
        "Now we can simply transpose the columns and rows so that genes become features and each patient's observations occupies a single row."
      ],
      "metadata": {
        "id": "auYdzwkIbpO7"
      }
    },
    {
      "cell_type": "code",
      "source": [
        "X_train = X_train_tr.T\n",
        "X_test = X_test_tr.T\n",
        "\n",
        "print(X_train.shape) \n",
        "X_train.head()"
      ],
      "metadata": {
        "id": "Edbh8jIHb7rU"
      },
      "execution_count": null,
      "outputs": []
    },
    {
      "cell_type": "markdown",
      "source": [
        "This is still messy as the first two rows are more or less duplicates of one another and we haven't yet created the column names. Let's simply turn the second row into the column names and delete the first row."
      ],
      "metadata": {
        "id": "VHbGV2rhcXAw"
      }
    },
    {
      "cell_type": "code",
      "source": [
        "# Clean up the column names for training and testing data\n",
        "X_train.columns = X_train.iloc[1]\n",
        "X_train = X_train.drop([\"Gene Description\", \"Gene Accession Number\"]).apply(pd.to_numeric)\n",
        "\n",
        "# Clean up the column names for Testing data\n",
        "X_test.columns = X_test.iloc[1]\n",
        "X_test = X_test.drop([\"Gene Description\", \"Gene Accession Number\"]).apply(pd.to_numeric)\n",
        "\n",
        "print(X_train.shape)\n",
        "print(X_test.shape)\n",
        "X_train.head()"
      ],
      "metadata": {
        "colab": {
          "base_uri": "https://localhost:8080/",
          "height": 369
        },
        "id": "Dpy5F7O1cgKK",
        "outputId": "093c174c-5134-4522-c3a7-319c9565fd0d"
      },
      "execution_count": 10,
      "outputs": [
        {
          "output_type": "stream",
          "name": "stdout",
          "text": [
            "(38, 7129)\n",
            "(34, 7129)\n"
          ]
        },
        {
          "output_type": "execute_result",
          "data": {
            "text/plain": [
              "Gene Accession Number  AFFX-BioB-5_at  AFFX-BioB-M_at  AFFX-BioB-3_at  \\\n",
              "1                                -214            -153             -58   \n",
              "2                                -139             -73              -1   \n",
              "3                                 -76             -49            -307   \n",
              "4                                -135            -114             265   \n",
              "5                                -106            -125             -76   \n",
              "\n",
              "Gene Accession Number  AFFX-BioC-5_at  AFFX-BioC-3_at  AFFX-BioDn-5_at  \\\n",
              "1                                  88            -295             -558   \n",
              "2                                 283            -264             -400   \n",
              "3                                 309            -376             -650   \n",
              "4                                  12            -419             -585   \n",
              "5                                 168            -230             -284   \n",
              "\n",
              "Gene Accession Number  AFFX-BioDn-3_at  AFFX-CreX-5_at  AFFX-CreX-3_at  \\\n",
              "1                                  199            -176             252   \n",
              "2                                 -330            -168             101   \n",
              "3                                   33            -367             206   \n",
              "4                                  158            -253              49   \n",
              "5                                    4            -122              70   \n",
              "\n",
              "Gene Accession Number  AFFX-BioB-5_st  ...  U48730_at  U58516_at  U73738_at  \\\n",
              "1                                 206  ...        185        511       -125   \n",
              "2                                  74  ...        169        837        -36   \n",
              "3                                -215  ...        315       1199         33   \n",
              "4                                  31  ...        240        835        218   \n",
              "5                                 252  ...        156        649         57   \n",
              "\n",
              "Gene Accession Number  X06956_at  X16699_at  X83863_at  Z17240_at  \\\n",
              "1                            389        -37        793        329   \n",
              "2                            442        -17        782        295   \n",
              "3                            168         52       1138        777   \n",
              "4                            174       -110        627        170   \n",
              "5                            504        -26        250        314   \n",
              "\n",
              "Gene Accession Number  L49218_f_at  M71243_f_at  Z78285_f_at  \n",
              "1                               36          191          -37  \n",
              "2                               11           76          -14  \n",
              "3                               41          228          -41  \n",
              "4                              -50          126          -91  \n",
              "5                               14           56          -25  \n",
              "\n",
              "[5 rows x 7129 columns]"
            ],
            "text/html": [
              "\n",
              "  <div id=\"df-58237bc1-4431-4a84-b855-200ca8730e00\">\n",
              "    <div class=\"colab-df-container\">\n",
              "      <div>\n",
              "<style scoped>\n",
              "    .dataframe tbody tr th:only-of-type {\n",
              "        vertical-align: middle;\n",
              "    }\n",
              "\n",
              "    .dataframe tbody tr th {\n",
              "        vertical-align: top;\n",
              "    }\n",
              "\n",
              "    .dataframe thead th {\n",
              "        text-align: right;\n",
              "    }\n",
              "</style>\n",
              "<table border=\"1\" class=\"dataframe\">\n",
              "  <thead>\n",
              "    <tr style=\"text-align: right;\">\n",
              "      <th>Gene Accession Number</th>\n",
              "      <th>AFFX-BioB-5_at</th>\n",
              "      <th>AFFX-BioB-M_at</th>\n",
              "      <th>AFFX-BioB-3_at</th>\n",
              "      <th>AFFX-BioC-5_at</th>\n",
              "      <th>AFFX-BioC-3_at</th>\n",
              "      <th>AFFX-BioDn-5_at</th>\n",
              "      <th>AFFX-BioDn-3_at</th>\n",
              "      <th>AFFX-CreX-5_at</th>\n",
              "      <th>AFFX-CreX-3_at</th>\n",
              "      <th>AFFX-BioB-5_st</th>\n",
              "      <th>...</th>\n",
              "      <th>U48730_at</th>\n",
              "      <th>U58516_at</th>\n",
              "      <th>U73738_at</th>\n",
              "      <th>X06956_at</th>\n",
              "      <th>X16699_at</th>\n",
              "      <th>X83863_at</th>\n",
              "      <th>Z17240_at</th>\n",
              "      <th>L49218_f_at</th>\n",
              "      <th>M71243_f_at</th>\n",
              "      <th>Z78285_f_at</th>\n",
              "    </tr>\n",
              "  </thead>\n",
              "  <tbody>\n",
              "    <tr>\n",
              "      <th>1</th>\n",
              "      <td>-214</td>\n",
              "      <td>-153</td>\n",
              "      <td>-58</td>\n",
              "      <td>88</td>\n",
              "      <td>-295</td>\n",
              "      <td>-558</td>\n",
              "      <td>199</td>\n",
              "      <td>-176</td>\n",
              "      <td>252</td>\n",
              "      <td>206</td>\n",
              "      <td>...</td>\n",
              "      <td>185</td>\n",
              "      <td>511</td>\n",
              "      <td>-125</td>\n",
              "      <td>389</td>\n",
              "      <td>-37</td>\n",
              "      <td>793</td>\n",
              "      <td>329</td>\n",
              "      <td>36</td>\n",
              "      <td>191</td>\n",
              "      <td>-37</td>\n",
              "    </tr>\n",
              "    <tr>\n",
              "      <th>2</th>\n",
              "      <td>-139</td>\n",
              "      <td>-73</td>\n",
              "      <td>-1</td>\n",
              "      <td>283</td>\n",
              "      <td>-264</td>\n",
              "      <td>-400</td>\n",
              "      <td>-330</td>\n",
              "      <td>-168</td>\n",
              "      <td>101</td>\n",
              "      <td>74</td>\n",
              "      <td>...</td>\n",
              "      <td>169</td>\n",
              "      <td>837</td>\n",
              "      <td>-36</td>\n",
              "      <td>442</td>\n",
              "      <td>-17</td>\n",
              "      <td>782</td>\n",
              "      <td>295</td>\n",
              "      <td>11</td>\n",
              "      <td>76</td>\n",
              "      <td>-14</td>\n",
              "    </tr>\n",
              "    <tr>\n",
              "      <th>3</th>\n",
              "      <td>-76</td>\n",
              "      <td>-49</td>\n",
              "      <td>-307</td>\n",
              "      <td>309</td>\n",
              "      <td>-376</td>\n",
              "      <td>-650</td>\n",
              "      <td>33</td>\n",
              "      <td>-367</td>\n",
              "      <td>206</td>\n",
              "      <td>-215</td>\n",
              "      <td>...</td>\n",
              "      <td>315</td>\n",
              "      <td>1199</td>\n",
              "      <td>33</td>\n",
              "      <td>168</td>\n",
              "      <td>52</td>\n",
              "      <td>1138</td>\n",
              "      <td>777</td>\n",
              "      <td>41</td>\n",
              "      <td>228</td>\n",
              "      <td>-41</td>\n",
              "    </tr>\n",
              "    <tr>\n",
              "      <th>4</th>\n",
              "      <td>-135</td>\n",
              "      <td>-114</td>\n",
              "      <td>265</td>\n",
              "      <td>12</td>\n",
              "      <td>-419</td>\n",
              "      <td>-585</td>\n",
              "      <td>158</td>\n",
              "      <td>-253</td>\n",
              "      <td>49</td>\n",
              "      <td>31</td>\n",
              "      <td>...</td>\n",
              "      <td>240</td>\n",
              "      <td>835</td>\n",
              "      <td>218</td>\n",
              "      <td>174</td>\n",
              "      <td>-110</td>\n",
              "      <td>627</td>\n",
              "      <td>170</td>\n",
              "      <td>-50</td>\n",
              "      <td>126</td>\n",
              "      <td>-91</td>\n",
              "    </tr>\n",
              "    <tr>\n",
              "      <th>5</th>\n",
              "      <td>-106</td>\n",
              "      <td>-125</td>\n",
              "      <td>-76</td>\n",
              "      <td>168</td>\n",
              "      <td>-230</td>\n",
              "      <td>-284</td>\n",
              "      <td>4</td>\n",
              "      <td>-122</td>\n",
              "      <td>70</td>\n",
              "      <td>252</td>\n",
              "      <td>...</td>\n",
              "      <td>156</td>\n",
              "      <td>649</td>\n",
              "      <td>57</td>\n",
              "      <td>504</td>\n",
              "      <td>-26</td>\n",
              "      <td>250</td>\n",
              "      <td>314</td>\n",
              "      <td>14</td>\n",
              "      <td>56</td>\n",
              "      <td>-25</td>\n",
              "    </tr>\n",
              "  </tbody>\n",
              "</table>\n",
              "<p>5 rows × 7129 columns</p>\n",
              "</div>\n",
              "      <button class=\"colab-df-convert\" onclick=\"convertToInteractive('df-58237bc1-4431-4a84-b855-200ca8730e00')\"\n",
              "              title=\"Convert this dataframe to an interactive table.\"\n",
              "              style=\"display:none;\">\n",
              "        \n",
              "  <svg xmlns=\"http://www.w3.org/2000/svg\" height=\"24px\"viewBox=\"0 0 24 24\"\n",
              "       width=\"24px\">\n",
              "    <path d=\"M0 0h24v24H0V0z\" fill=\"none\"/>\n",
              "    <path d=\"M18.56 5.44l.94 2.06.94-2.06 2.06-.94-2.06-.94-.94-2.06-.94 2.06-2.06.94zm-11 1L8.5 8.5l.94-2.06 2.06-.94-2.06-.94L8.5 2.5l-.94 2.06-2.06.94zm10 10l.94 2.06.94-2.06 2.06-.94-2.06-.94-.94-2.06-.94 2.06-2.06.94z\"/><path d=\"M17.41 7.96l-1.37-1.37c-.4-.4-.92-.59-1.43-.59-.52 0-1.04.2-1.43.59L10.3 9.45l-7.72 7.72c-.78.78-.78 2.05 0 2.83L4 21.41c.39.39.9.59 1.41.59.51 0 1.02-.2 1.41-.59l7.78-7.78 2.81-2.81c.8-.78.8-2.07 0-2.86zM5.41 20L4 18.59l7.72-7.72 1.47 1.35L5.41 20z\"/>\n",
              "  </svg>\n",
              "      </button>\n",
              "      \n",
              "  <style>\n",
              "    .colab-df-container {\n",
              "      display:flex;\n",
              "      flex-wrap:wrap;\n",
              "      gap: 12px;\n",
              "    }\n",
              "\n",
              "    .colab-df-convert {\n",
              "      background-color: #E8F0FE;\n",
              "      border: none;\n",
              "      border-radius: 50%;\n",
              "      cursor: pointer;\n",
              "      display: none;\n",
              "      fill: #1967D2;\n",
              "      height: 32px;\n",
              "      padding: 0 0 0 0;\n",
              "      width: 32px;\n",
              "    }\n",
              "\n",
              "    .colab-df-convert:hover {\n",
              "      background-color: #E2EBFA;\n",
              "      box-shadow: 0px 1px 2px rgba(60, 64, 67, 0.3), 0px 1px 3px 1px rgba(60, 64, 67, 0.15);\n",
              "      fill: #174EA6;\n",
              "    }\n",
              "\n",
              "    [theme=dark] .colab-df-convert {\n",
              "      background-color: #3B4455;\n",
              "      fill: #D2E3FC;\n",
              "    }\n",
              "\n",
              "    [theme=dark] .colab-df-convert:hover {\n",
              "      background-color: #434B5C;\n",
              "      box-shadow: 0px 1px 3px 1px rgba(0, 0, 0, 0.15);\n",
              "      filter: drop-shadow(0px 1px 2px rgba(0, 0, 0, 0.3));\n",
              "      fill: #FFFFFF;\n",
              "    }\n",
              "  </style>\n",
              "\n",
              "      <script>\n",
              "        const buttonEl =\n",
              "          document.querySelector('#df-58237bc1-4431-4a84-b855-200ca8730e00 button.colab-df-convert');\n",
              "        buttonEl.style.display =\n",
              "          google.colab.kernel.accessAllowed ? 'block' : 'none';\n",
              "\n",
              "        async function convertToInteractive(key) {\n",
              "          const element = document.querySelector('#df-58237bc1-4431-4a84-b855-200ca8730e00');\n",
              "          const dataTable =\n",
              "            await google.colab.kernel.invokeFunction('convertToInteractive',\n",
              "                                                     [key], {});\n",
              "          if (!dataTable) return;\n",
              "\n",
              "          const docLinkHtml = 'Like what you see? Visit the ' +\n",
              "            '<a target=\"_blank\" href=https://colab.research.google.com/notebooks/data_table.ipynb>data table notebook</a>'\n",
              "            + ' to learn more about interactive tables.';\n",
              "          element.innerHTML = '';\n",
              "          dataTable['output_type'] = 'display_data';\n",
              "          await google.colab.output.renderOutput(dataTable, element);\n",
              "          const docLink = document.createElement('div');\n",
              "          docLink.innerHTML = docLinkHtml;\n",
              "          element.appendChild(docLink);\n",
              "        }\n",
              "      </script>\n",
              "    </div>\n",
              "  </div>\n",
              "  "
            ]
          },
          "metadata": {},
          "execution_count": 10
        }
      ]
    },
    {
      "cell_type": "markdown",
      "source": [
        "That looks much better. We have the 38 patients as rows in the training set, and the other 34 as rows in the testing set. Each of those datasets has 7129 gene expression features.\n",
        "But we haven't yet associated the target labels with the right patients. Let's split the data so that the patients and labels match up across the training and testing dataframes."
      ],
      "metadata": {
        "id": "mFypkoDCczPX"
      }
    },
    {
      "cell_type": "code",
      "source": [
        "# Split into train and test (we first need to reset the index as the indexes of two dataframes need to be the same before you combine them).\n",
        "\n",
        "# Subset the first 38 patient's cancer types\n",
        "X_train = X_train.reset_index(drop=True)\n",
        "y_train = y[y.patient <= 38].reset_index(drop=True)\n",
        "\n",
        "# Subset the rest for testing\n",
        "X_test = X_test.reset_index(drop=True)\n",
        "y_test = y[y.patient > 38].reset_index(drop=True)"
      ],
      "metadata": {
        "id": "paEdacuKczyU"
      },
      "execution_count": 11,
      "outputs": []
    },
    {
      "cell_type": "markdown",
      "source": [
        "Many machine learning models work much better with data that's on the same scale, so let's create a scaled version of the dataset."
      ],
      "metadata": {
        "id": "7PRTdkxVdYYO"
      }
    },
    {
      "cell_type": "code",
      "source": [
        "# Convert from integer to float\n",
        "X_train_fl = X_train.astype(float, 64)\n",
        "X_test_fl = X_test.astype(float, 64)\n",
        "\n",
        "# Apply the same scaling to both datasets\n",
        "scaler = StandardScaler()\n",
        "X_train_scl = scaler.fit_transform(X_train_fl)\n",
        "X_test_scl = scaler.transform(X_test_fl) # note that we transform rather than fit_transform"
      ],
      "metadata": {
        "id": "uTLt9qR6djaX"
      },
      "execution_count": 12,
      "outputs": []
    },
    {
      "cell_type": "markdown",
      "source": [
        "With 7129 features, it's also worth considering whether we might be able to reduce the dimensionality of the dataset. Once very common approach to this is principal components analysis (PCA). \n",
        "\n",
        "Let's set a threshold for explained variance of 90% and see how many features are required to meet that threshold"
      ],
      "metadata": {
        "id": "TvrCaHcTdk1_"
      }
    },
    {
      "cell_type": "code",
      "source": [
        "pca = PCA()\n",
        "pca.fit_transform(X_train)\n",
        "\n",
        "total = sum(pca.explained_variance_)\n",
        "k = 0\n",
        "current_variance = 0\n",
        "while current_variance/total < 0.90: # less than 90% variance\n",
        "    current_variance += pca.explained_variance_[k]\n",
        "    k = k + 1\n",
        "    \n",
        "print(k, \" features explain around 90% of the variance. From 7129 features to \", k, \", not too bad.\", sep='')\n",
        "\n",
        "pca = PCA(n_components=k)\n",
        "X_train.pca = pca.fit(X_train)\n",
        "X_train_pca = pca.transform(X_train)\n",
        "X_test_pca = pca.transform(X_test)\n",
        "\n",
        "var_exp = pca.explained_variance_ratio_.cumsum()\n",
        "var_exp = var_exp*100\n",
        "plt.bar(range(k), var_exp);"
      ],
      "metadata": {
        "colab": {
          "base_uri": "https://localhost:8080/",
          "height": 282
        },
        "id": "CrF4RFf6dqqn",
        "outputId": "4968e921-e976-46b5-fd1b-94a241827f82"
      },
      "execution_count": 17,
      "outputs": [
        {
          "output_type": "stream",
          "name": "stdout",
          "text": [
            "22 features explain around 90% of the variance. From 7129 features to 22, not too bad.\n"
          ]
        },
        {
          "output_type": "display_data",
          "data": {
            "text/plain": [
              "<Figure size 432x288 with 1 Axes>"
            ],
            "image/png": "[encoded data removed]"
          },
          "metadata": {
            "needs_background": "light"
          }
        }
      ]
    },
    {
      "cell_type": "markdown",
      "source": [
        "# Model Building"
      ],
      "metadata": {
        "id": "zXDfJgI2hGOL"
      }
    },
    {
      "cell_type": "markdown",
      "source": [
        "Having prepared the dataset, it's now finally time to try out some models."
      ],
      "metadata": {
        "id": "fuVYHk7DhPqA"
      }
    },
    {
      "cell_type": "markdown",
      "source": [
        "**K-Means Clustering**"
      ],
      "metadata": {
        "id": "TTBuDGIahiuY"
      }
    },
    {
      "cell_type": "markdown",
      "source": [
        "First we shall try an unsupervised clustering approach using the scaled data."
      ],
      "metadata": {
        "id": "EbeihxrmhkGI"
      }
    },
    {
      "cell_type": "code",
      "source": [
        "kmeans = KMeans(n_clusters=2, random_state=0).fit(X_train_scl)\n",
        "km_pred = kmeans.predict(X_test_scl)\n"
      ],
      "metadata": {
        "id": "FnF3uwO0gtxz"
      },
      "execution_count": 35,
      "outputs": []
    },
    {
      "cell_type": "markdown",
      "source": [
        "**Logistic Regression**"
      ],
      "metadata": {
        "id": "icKma4kXi-Yb"
      }
    },
    {
      "cell_type": "markdown",
      "source": [
        "Another very standard approach is logistic regression. Here we will be using grid search cross-validation tuning to try and determine the best hyperparameters. We don't need to scale the data for logistic regression, nor are we using the PCA version of the dataset."
      ],
      "metadata": {
        "id": "kPqiYyb7jBEF"
      }
    },
    {
      "cell_type": "code",
      "source": [
        "log_grid = {'C': [1e-03, 1e-2, 1e-1, 1, 10], \n",
        "                 'penalty': ['l1', 'l2']}\n",
        "\n",
        "log_estimator = LogisticRegression(solver='liblinear')\n",
        "\n",
        "log_model = GridSearchCV(estimator=log_estimator, \n",
        "                  param_grid=log_grid, \n",
        "                  cv=3,\n",
        "                  scoring='accuracy')\n",
        "\n",
        "log_model.fit(X_train, y_train.iloc[:,1])\n",
        "\n",
        "print(\"Best Parameters:\\n\", log_model.best_params_)\n",
        "\n",
        "# Select best log model\n",
        "best_log = log_model.best_estimator_\n",
        "\n",
        "# Make predictions using the optimised parameters\n",
        "log_pred = best_log.predict(X_test)\n",
        "\n",
        "print('Logistic Regression accuracy:', round(accuracy_score(y_test.iloc[:,1], log_pred), 3))\n",
        "\n",
        "cm_log =  confusion_matrix(y_test.iloc[:,1], log_pred)\n",
        "\n",
        "ax = plt.subplot()\n",
        "sns.heatmap(cm_log, annot=True, ax = ax, fmt='g', cmap='Greens') \n",
        "\n",
        "# labels, title and ticks\n",
        "ax.set_xlabel('Predicted labels')\n",
        "ax.set_ylabel('True labels') \n",
        "ax.set_title('Logistic Regression Confusion Matrix') \n",
        "ax.xaxis.set_ticklabels(labels) \n",
        "ax.yaxis.set_ticklabels(labels, rotation=360);"
      ],
      "metadata": {
        "colab": {
          "base_uri": "https://localhost:8080/",
          "height": 347
        },
        "id": "7yjMum05jFVb",
        "outputId": "255231f6-9205-4d55-d39f-7f75ed352edd"
      },
      "execution_count": 37,
      "outputs": [
        {
          "output_type": "stream",
          "name": "stdout",
          "text": [
            "Best Parameters:\n",
            " {'C': 1, 'penalty': 'l1'}\n",
            "Logistic Regression accuracy: 1.0\n"
          ]
        },
        {
          "output_type": "display_data",
          "data": {
            "text/plain": [
              "<Figure size 432x288 with 2 Axes>"
            ],
            "image/png": "[encoded data removed]"
          },
          "metadata": {
            "needs_background": "light"
          }
        }
      ]
    },
    {
      "cell_type": "markdown",
      "source": [
        "**Decision Tree**"
      ],
      "metadata": {
        "id": "XLuVPduIjve_"
      }
    },
    {
      "cell_type": "code",
      "source": [
        "nb_model = GaussianNB()\n",
        "\n",
        "nb_model.fit(X_train, y_train.iloc[:,1])\n",
        "nb_pred = nb_model.predict(X_test)\n",
        "cm_nb =  confusion_matrix(y_test.iloc[:,1], nb_pred)\n",
        "\n",
        "# Create a Gaussian classifier\n",
        "dt_model = DecisionTreeClassifier()\n",
        "\n",
        "dt_model.fit(X_train, y_train.iloc[:,1])\n",
        "\n",
        "dt_pred = dt_model.predict(X_test)\n",
        "\n",
        "print('Decision Tree accuracy:', round(accuracy_score(y_test.iloc[:,1], dt_pred), 3))\n",
        "\n",
        "cm_dt =  confusion_matrix(y_test.iloc[:,1], dt_pred)\n",
        "\n",
        "ax = plt.subplot()\n",
        "\n",
        "sns.heatmap(cm_nb, annot=True, ax = ax, fmt='g', cmap='Greens') \n",
        "\n",
        "# labels, title and ticks\n",
        "ax.set_xlabel('Predicted labels')\n",
        "ax.set_ylabel('True labels') \n",
        "ax.set_title('Decision Tree Confusion Matrix') \n",
        "ax.xaxis.set_ticklabels(labels) \n",
        "ax.yaxis.set_ticklabels(labels, rotation=360);"
      ],
      "metadata": {
        "colab": {
          "base_uri": "https://localhost:8080/",
          "height": 312
        },
        "id": "YzctlKtnjult",
        "outputId": "b13c5ba2-7fd9-4cdb-cf9c-6bc88947214a"
      },
      "execution_count": 36,
      "outputs": [
        {
          "output_type": "stream",
          "name": "stdout",
          "text": [
            "Decision Tree accuracy: 0.912\n"
          ]
        },
        {
          "output_type": "display_data",
          "data": {
            "text/plain": [
              "<Figure size 432x288 with 2 Axes>"
            ],
            "image/png": "[encoded data removed]"
          },
          "metadata": {
            "needs_background": "light"
          }
        }
      ]
    },
    {
      "cell_type": "markdown",
      "source": [
        "**Random Forest**"
      ],
      "metadata": {
        "id": "c6btEiQ6jcs9"
      }
    },
    {
      "cell_type": "markdown",
      "source": [
        "We now move on to tree-base approaches, starting with the very popular random forest. We don't need scaled data for this, so again we wont use the scaled version of the dataset, just a grid search for tuning the hyperparameters."
      ],
      "metadata": {
        "id": "PmmxjDuljffM"
      }
    },
    {
      "cell_type": "code",
      "source": [
        "# Hyperparameters search grid \n",
        "rf_param_grid = {'bootstrap': [False, True],\n",
        "         'n_estimators': [60, 70, 80, 90, 100],\n",
        "         'max_features': [0.6, 0.65, 0.7, 0.75, 0.8],\n",
        "         'min_samples_leaf': [8, 10, 12, 14],\n",
        "         'min_samples_split': [3, 5, 7]\n",
        "        }\n",
        "\n",
        "# Instantiate random forest classifier\n",
        "rf_estimator = RandomForestClassifier(random_state=0)\n",
        "\n",
        "# Create the GridSearchCV object\n",
        "rf_model = GridSearchCV(estimator=rf_estimator, param_grid=rf_param_grid, cv=3, scoring='accuracy')\n",
        "\n",
        "# Fine-tune the hyperparameters\n",
        "rf_model.fit(X_train, y_train.iloc[:,1])\n",
        "\n",
        "print(\"Best Parameters:\\n\", rf_model.best_params_)\n",
        "\n",
        "# Get the best model\n",
        "rf_model_best = rf_model.best_estimator_\n",
        "\n",
        "# Make predictions using the optimised parameters\n",
        "rf_pred = rf_model_best.predict(X_test)\n",
        "\n",
        "print('Random Forest accuracy:', round(accuracy_score(y_test.iloc[:,1], rf_pred), 3))\n",
        "\n",
        "cm_rf = confusion_matrix(y_test.iloc[:,1], rf_pred)\n",
        "\n",
        "ax = plt.subplot()\n",
        "sns.heatmap(cm_rf, annot=True, ax = ax, fmt='g', cmap='Greens') \n",
        "\n",
        "# labels, title and ticks\n",
        "ax.set_xlabel('Predicted labels')\n",
        "ax.set_ylabel('True labels') \n",
        "ax.set_title('Random Forest Confusion Matrix') \n",
        "ax.xaxis.set_ticklabels(labels) \n",
        "ax.yaxis.set_ticklabels(labels, rotation=360);"
      ],
      "metadata": {
        "colab": {
          "base_uri": "https://localhost:8080/",
          "height": 347
        },
        "id": "B9F5ebYnjkDD",
        "outputId": "0337754d-949b-459a-fba2-21c177ea6fa9"
      },
      "execution_count": 26,
      "outputs": [
        {
          "output_type": "stream",
          "name": "stdout",
          "text": [
            "Best Parameters:\n",
            " {'bootstrap': False, 'max_features': 0.6, 'min_samples_leaf': 8, 'min_samples_split': 3, 'n_estimators': 60}\n",
            "Random Forest accuracy: 0.912\n"
          ]
        },
        {
          "output_type": "display_data",
          "data": {
            "text/plain": [
              "<Figure size 432x288 with 2 Axes>"
            ],
            "image/png": "[encoded data removed]"
          },
          "metadata": {
            "needs_background": "light"
          }
        }
      ]
    }
  ]
}